{
 "cells": [
  {
   "cell_type": "markdown",
   "metadata": {},
   "source": [
    "# 磁盘信息\n",
    "\n",
    "> 磁盘的监控还是相当重要的, 磁盘满了程序异常随之而来. 监控策略的话根据`percent`来进行告警.  监控时将磁盘详细信息采集下来可以更好的了解磁盘使用状况."
   ]
  },
  {
   "cell_type": "code",
   "execution_count": 2,
   "metadata": {
    "collapsed": true
   },
   "outputs": [],
   "source": [
    "# %load ../util.py\n",
    "def bytes2human(n):\n",
    "    # http://code.activestate.com/recipes/578019\n",
    "    # >>> bytes2human(10000)\n",
    "    # '9.8K'\n",
    "    # >>> bytes2human(100001221)\n",
    "    # '95.4M'\n",
    "    symbols = ('K', 'M', 'G', 'T', 'P', 'E', 'Z', 'Y')\n",
    "    prefix = {}\n",
    "    for i, s in enumerate(symbols):\n",
    "        prefix[s] = 1 << (i + 1) * 10\n",
    "    for s in reversed(symbols):\n",
    "        if n >= prefix[s]:\n",
    "            value = float(n) / prefix[s]\n",
    "            return '%.1f%s' % (value, s)\n",
    "    return \"%sB\" % n\n"
   ]
  },
  {
   "cell_type": "code",
   "execution_count": 7,
   "metadata": {},
   "outputs": [
    {
     "name": "stdout",
     "output_type": "stream",
     "text": [
      "Device                            Total     Used     Free  Use %      Type  Mount\n",
      "/dev/mapper/vagrant--vg-root      18.3G    13.7G     3.6G    79%      ext4  /\n",
      "/dev/sda1                        235.3M   177.8M    45.4M    79%      ext2  /boot\n"
     ]
    }
   ],
   "source": [
    "# 类似于df命令\n",
    "import os\n",
    "import psutil\n",
    "\n",
    "templ = \"%-30s %8s %8s %8s %5s%% %9s  %s\"\n",
    "print(templ % (\"Device\", \"Total\", \"Used\", \"Free\", \"Use \", \"Type\",\n",
    "               \"Mount\"))\n",
    "for part in psutil.disk_partitions(all=False):\n",
    "    if os.name == 'nt':\n",
    "        if 'cdrom' in part.opts or part.fstype == '':\n",
    "            # skip cd-rom drives with no disk in it; they may raise\n",
    "            # ENOENT, pop-up a Windows GUI error for a non-ready\n",
    "            # partition or just hang.\n",
    "            continue\n",
    "    usage = psutil.disk_usage(part.mountpoint)\n",
    "    print(templ % (\n",
    "        part.device,\n",
    "        bytes2human(usage.total),\n",
    "        bytes2human(usage.used),\n",
    "        bytes2human(usage.free),\n",
    "        int(usage.percent),\n",
    "        part.fstype,\n",
    "        part.mountpoint))\n"
   ]
  }
 ],
 "metadata": {
  "kernelspec": {
   "display_name": "Python 3",
   "language": "python",
   "name": "python3"
  },
  "language_info": {
   "codemirror_mode": {
    "name": "ipython",
    "version": 3
   },
   "file_extension": ".py",
   "mimetype": "text/x-python",
   "name": "python",
   "nbconvert_exporter": "python",
   "pygments_lexer": "ipython3",
   "version": "3.6.1"
  }
 },
 "nbformat": 4,
 "nbformat_minor": 2
}
