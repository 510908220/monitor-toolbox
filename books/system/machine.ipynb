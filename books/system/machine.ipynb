{
 "cells": [
  {
   "cell_type": "markdown",
   "metadata": {},
   "source": [
    "# 主机信息\n",
    "\n",
    "- CPU\n",
    "- 内存\n",
    "- 磁盘\n"
   ]
  },
  {
   "cell_type": "code",
   "execution_count": 23,
   "metadata": {
    "collapsed": true
   },
   "outputs": [],
   "source": [
    "# %load ../util.py\n",
    "def bytes2human(n):\n",
    "    # http://code.activestate.com/recipes/578019\n",
    "    # >>> bytes2human(10000)\n",
    "    # '9.8K'\n",
    "    # >>> bytes2human(100001221)\n",
    "    # '95.4M'\n",
    "    symbols = ('K', 'M', 'G', 'T', 'P', 'E', 'Z', 'Y')\n",
    "    prefix = {}\n",
    "    for i, s in enumerate(symbols):\n",
    "        prefix[s] = 1 << (i + 1) * 10\n",
    "    for s in reversed(symbols):\n",
    "        if n >= prefix[s]:\n",
    "            value = float(n) / prefix[s]\n",
    "            return '%.1f%s' % (value, s)\n",
    "    return \"%sB\" % n\n"
   ]
  },
  {
   "cell_type": "markdown",
   "metadata": {},
   "source": [
    "## [CPU](https://pythonhosted.org/psutil/#psutil.cpu_count)\n",
    "\n",
    "默认获取的是逻辑上cpu的个数, 如果加上参数`logical=False`获取的就是有多少物理核心."
   ]
  },
  {
   "cell_type": "code",
   "execution_count": 6,
   "metadata": {},
   "outputs": [
    {
     "name": "stdout",
     "output_type": "stream",
     "text": [
      "logical: 1\n",
      "physical: 1\n"
     ]
    }
   ],
   "source": [
    "import psutil\n",
    "print('logical:',psutil.cpu_count())\n",
    "print('physical:',psutil.cpu_count(logical=False))"
   ]
  },
  {
   "cell_type": "markdown",
   "metadata": {},
   "source": [
    "## [内存](https://pythonhosted.org/psutil/#memory)"
   ]
  },
  {
   "cell_type": "code",
   "execution_count": 24,
   "metadata": {},
   "outputs": [
    {
     "name": "stdout",
     "output_type": "stream",
     "text": [
      "物理内存: 993.9M\n"
     ]
    }
   ],
   "source": [
    "mem_info = psutil.virtual_memory()\n",
    "\n",
    "print('物理内存:', bytes2human(mem_info.total))\n"
   ]
  },
  {
   "cell_type": "markdown",
   "metadata": {},
   "source": [
    "## [磁盘](https://pythonhosted.org/psutil/#disks)"
   ]
  },
  {
   "cell_type": "code",
   "execution_count": 29,
   "metadata": {},
   "outputs": [
    {
     "name": "stdout",
     "output_type": "stream",
     "text": [
      "Device                            Total     Type   Mount\n",
      "/dev/mapper/vagrant--vg-root      18.3G     ext4   /\n",
      "/dev/sda1                        235.3M     ext2   /boot\n"
     ]
    }
   ],
   "source": [
    "import os\n",
    "templ = \"%-30s %8s %8s   %s\"\n",
    "print(templ % (\"Device\", \"Total\", \"Type\",\n",
    "               \"Mount\"))\n",
    "for part in psutil.disk_partitions(all=False):\n",
    "    if os.name == 'nt':\n",
    "        if 'cdrom' in part.opts or part.fstype == '':\n",
    "            # skip cd-rom drives with no disk in it; they may raise\n",
    "            # ENOENT, pop-up a Windows GUI error for a non-ready\n",
    "            # partition or just hang.\n",
    "            continue\n",
    "    usage = psutil.disk_usage(part.mountpoint)\n",
    "    print(templ % (\n",
    "        part.device,\n",
    "        bytes2human(usage.total),\n",
    "        part.fstype,\n",
    "        part.mountpoint))"
   ]
  }
 ],
 "metadata": {
  "kernelspec": {
   "display_name": "Python 3",
   "language": "python",
   "name": "python3"
  },
  "language_info": {
   "codemirror_mode": {
    "name": "ipython",
    "version": 3
   },
   "file_extension": ".py",
   "mimetype": "text/x-python",
   "name": "python",
   "nbconvert_exporter": "python",
   "pygments_lexer": "ipython3",
   "version": "3.6.1"
  }
 },
 "nbformat": 4,
 "nbformat_minor": 2
}
