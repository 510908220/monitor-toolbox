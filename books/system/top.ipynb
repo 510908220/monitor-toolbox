{
 "cells": [
  {
   "cell_type": "markdown",
   "metadata": {},
   "source": [
    "# TOP相似的信息"
   ]
  },
  {
   "cell_type": "markdown",
   "metadata": {},
   "source": [
    "## linux下获取内存信息"
   ]
  },
  {
   "cell_type": "code",
   "execution_count": 52,
   "metadata": {},
   "outputs": [
    {
     "name": "stdout",
     "output_type": "stream",
     "text": [
      "             total       used       free     shared    buffers     cached\r\n",
      "Mem:           993        918         75          1          5         49\r\n",
      "-/+ buffers/cache:        864        129\r\n",
      "Swap:         1023        626        397\r\n"
     ]
    }
   ],
   "source": [
    "!free -m"
   ]
  },
  {
   "cell_type": "markdown",
   "metadata": {},
   "source": [
    "直接限制的值并不是真正意义的值. 比如Mem这一行的`free`并不是说真正剩余内存. 下面说明一下上面值的含义:\n",
    "\n",
    "#### Mem\n",
    "\n",
    "- total 内存总数: 993\n",
    "- used 已经使用的内存数: 918\n",
    "- free 空闲的内存数: 75\n",
    "- shared 当前已经废弃不用\n",
    "- buffers Buffer Cache内存数: 5\n",
    "- cached Page Cache内存数: 49\n",
    "\n",
    "#### -/+ buffers/cache\n",
    "\n",
    "- -buffers/cache 的内存数：864 (等于第1行的 used - buffers - cached)\n",
    "- +buffers/cache 的内存数: 129 (等于第1行的 free + buffers + cached)\n",
    "\n",
    "可见`-buffers/cache`反映的是**被程序实实在在吃掉的内存**，而`+buffers/cache`反映的是**可以挪用的内存**总数.\n",
    "\n",
    "\n",
    "当你看见 buffer/cache 的空闲空间低或者 swap 的空闲空间低，说明内存需要升级了：\n",
    "- 这意味这内存利用率很高.\n",
    "- 代码太吃内存了,代码优化"
   ]
  },
  {
   "cell_type": "code",
   "execution_count": 19,
   "metadata": {
    "collapsed": true
   },
   "outputs": [],
   "source": [
    "# %load ../util.py\n",
    "def bytes2human(n):\n",
    "    # http://code.activestate.com/recipes/578019\n",
    "    # >>> bytes2human(10000)\n",
    "    # '9.8K'\n",
    "    # >>> bytes2human(100001221)\n",
    "    # '95.4M'\n",
    "    symbols = ('K', 'M', 'G', 'T', 'P', 'E', 'Z', 'Y')\n",
    "    prefix = {}\n",
    "    for i, s in enumerate(symbols):\n",
    "        prefix[s] = 1 << (i + 1) * 10\n",
    "    for s in reversed(symbols):\n",
    "        if n >= prefix[s]:\n",
    "            value = float(n) / prefix[s]\n",
    "            return '%.1f%s' % (value, s)\n",
    "    return \"%sB\" % n\n"
   ]
  },
  {
   "cell_type": "markdown",
   "metadata": {},
   "source": [
    "## 系统内存信息"
   ]
  },
  {
   "cell_type": "markdown",
   "metadata": {},
   "source": [
    "#### 物理内存\n",
    "\n",
    "> if you just want to know how much physical memory is left in a cross platform fashion simply rely on the available field.\n",
    "\n",
    "`virtual_memory`读取的和`free`命令里值还是不一样. 所以这里使用`total`和`available`\n"
   ]
  },
  {
   "cell_type": "code",
   "execution_count": 136,
   "metadata": {},
   "outputs": [
    {
     "name": "stdout",
     "output_type": "stream",
     "text": [
      "mem: svmem(total=1042198528, available=162652160, percent=84.4, used=722202624, free=66297856, active=325947392, inactive=377892864, buffers=9388032, cached=244310016, shared=1740800)\n",
      "物理内存: 993.9M\n",
      "可用内存(不需要交换): 155.1M\n",
      "内存使用率: 84.4\n"
     ]
    }
   ],
   "source": [
    "import psutil\n",
    "mem = psutil.virtual_memory()\n",
    "print('mem:', mem)\n",
    "print(\"物理内存:\",bytes2human(mem.total))\n",
    "print(\"可用内存(不需要交换):\",bytes2human(mem.available))\n",
    "print(\"内存使用率:\",mem.percent)"
   ]
  },
  {
   "cell_type": "markdown",
   "metadata": {},
   "source": [
    "#### 交换分区"
   ]
  },
  {
   "cell_type": "code",
   "execution_count": 120,
   "metadata": {},
   "outputs": [
    {
     "name": "stdout",
     "output_type": "stream",
     "text": [
      "交换使用率: 70.2\n",
      "交换总量: 1073737728\n",
      "交换使用: 753819648\n"
     ]
    }
   ],
   "source": [
    "# swap usage\n",
    "swap = psutil.swap_memory()\n",
    "print('交换使用率:', swap.percent)\n",
    "print('交换总量:', swap.total)\n",
    "print('交换使用:', swap.used)\n"
   ]
  },
  {
   "cell_type": "markdown",
   "metadata": {},
   "source": [
    "## CPU信息"
   ]
  },
  {
   "cell_type": "code",
   "execution_count": 109,
   "metadata": {},
   "outputs": [
    {
     "name": "stdout",
     "output_type": "stream",
     "text": [
      "CPU percent: 3.7\n"
     ]
    }
   ],
   "source": [
    "print(\"CPU percent:\", psutil.cpu_percent(interval=0))"
   ]
  },
  {
   "cell_type": "markdown",
   "metadata": {},
   "source": [
    "## 负载\n",
    "\n",
    "负载是与cpu核心有关的. "
   ]
  },
  {
   "cell_type": "code",
   "execution_count": 115,
   "metadata": {},
   "outputs": [
    {
     "name": "stdout",
     "output_type": "stream",
     "text": [
      "loadavg(1/5/15): (0.05, 0.08, 0.12)\n"
     ]
    }
   ],
   "source": [
    "print('loadavg(1/5/15):', os.getloadavg())"
   ]
  },
  {
   "cell_type": "markdown",
   "metadata": {},
   "source": [
    "## 进程信息\n",
    "\n",
    "进程信息字段说明:\n",
    "\n",
    "- cmdline: mysqld\n",
    "- cpu_percent: 0.5\n",
    "- ctime: 32:18.53\n",
    "- memory_percent: 16.1\n",
    "- name: mysqld\"\n",
    "- nice: 0\n",
    "- pid: 11231\n",
    "- rss: 167632896\n",
    "- username: vboxadd\n",
    "- vms: 1155301376\n",
    "\n",
    "\n",
    "相应的top输出结果:\n",
    "\n",
    "```bash\n",
    "  PID USER     PR  NI    VIRT    RES    SHR S %CPU %MEM     TIME+ COMMAND                                                                                                                              \n",
    "11231 vboxadd   20   0    1128224 163704   3664 S  0.3 16.1  32:18.86 mysqld  \n",
    "```\n",
    "\n",
    "对应关系:\n",
    "- rss-->res\n",
    "- vms-->vms\n",
    "- cmdline-->COMMAND\n",
    "- cpu_percent--> %CPU\n",
    "- ctime-->TIME+\n",
    "- memory_percent-->%MEM\n",
    "- nice-->ni\n",
    "- pid-->PID\n",
    "- username-->USER\n",
    "\n",
    "\n"
   ]
  },
  {
   "cell_type": "code",
   "execution_count": 119,
   "metadata": {},
   "outputs": [
    {
     "name": "stdout",
     "output_type": "stream",
     "text": [
      "{\n",
      "    \"cmdline\": \"mysqld\",\n",
      "    \"cpu_percent\": 0.5,\n",
      "    \"ctime\": \"32:18.53\",\n",
      "    \"memory_percent\": 16.1,\n",
      "    \"name\": \"mysqld\",\n",
      "    \"nice\": 0,\n",
      "    \"pid\": 11231,\n",
      "    \"rss\": 167632896,\n",
      "    \"username\": \"vboxadd\",\n",
      "    \"vms\": 1155301376\n",
      "}\n"
     ]
    }
   ],
   "source": [
    "import datetime\n",
    "import os\n",
    "import sys\n",
    "import time\n",
    "import psutil\n",
    "import json\n",
    "\n",
    "\n",
    "def get_process_infos():\n",
    "    # 获取进程快照\n",
    "    procs = []\n",
    "    procs_status = {}\n",
    "    for p in psutil.process_iter():\n",
    "        try:\n",
    "            p.dict = p.as_dict(['username', 'nice', 'memory_info',\n",
    "                                'memory_percent', 'cpu_percent',\n",
    "                                'cpu_times', 'name', 'cmdline','status'])\n",
    "        except psutil.NoSuchProcess:\n",
    "            pass\n",
    "        else:\n",
    "            procs.append(p)\n",
    "\n",
    "    # return processes sorted by CPU percent usage\n",
    "    procs = sorted(procs, key=lambda p: p.dict['memory_percent'],\n",
    "                       reverse=True)\n",
    "\n",
    "    \n",
    "    process_infos = [\n",
    "        \n",
    "    ]\n",
    "    for p in procs:\n",
    "        # TIME+ column shows process CPU cumulative time and it\n",
    "        # is expressed as: \"mm:ss.ms\"\n",
    "        if p.dict['cpu_times'] is not None:\n",
    "            ctime = datetime.timedelta(seconds=sum(p.dict['cpu_times']))\n",
    "            ctime = \"%s:%s.%s\" % (ctime.seconds // 60 % 60,\n",
    "                                  str((ctime.seconds % 60)).zfill(2),\n",
    "                                  str(ctime.microseconds)[:2])\n",
    "        else:\n",
    "            ctime = ''\n",
    "        if p.dict['memory_percent'] is not None:\n",
    "            p.dict['memory_percent'] = round(p.dict['memory_percent'], 1)\n",
    "        else:\n",
    "            p.dict['memory_percent'] = ''\n",
    "        if p.dict['cpu_percent'] is None:\n",
    "            p.dict['cpu_percent'] = ''\n",
    "\n",
    "        process_infos.append({\n",
    "            'pid':p.pid,\n",
    "             'username': p.dict.get('username', ''),\n",
    "             'nice': p.dict['nice'],\n",
    "             'vms': getattr(p.dict['memory_info'], 'vms', 0),\n",
    "             'rss': getattr(p.dict['memory_info'], 'rss', 0),\n",
    "             'cpu_percent': p.dict['cpu_percent'],\n",
    "             'memory_percent': p.dict['memory_percent'],\n",
    "             'ctime': ctime,\n",
    "             'name':  p.dict['name'],\n",
    "             'cmdline':  \" \".join(p.dict['cmdline']),\n",
    "     \n",
    "            \n",
    "        })\n",
    "        \n",
    "    return process_infos\n",
    "process_infos = get_process_infos()\n",
    "print(json.dumps(process_infos[0], sort_keys=True, indent=4))\n",
    "\n"
   ]
  },
  {
   "cell_type": "markdown",
   "metadata": {},
   "source": [
    "## 参考\n",
    "- [free]( http://www.cnblogs.com/pengdonglin137/p/3315124.html)\n",
    "- [psutil-top](https://github.com/giampaolo/psutil/blob/master/scripts/top.py)"
   ]
  }
 ],
 "metadata": {
  "kernelspec": {
   "display_name": "Python 3",
   "language": "python",
   "name": "python3"
  },
  "language_info": {
   "codemirror_mode": {
    "name": "ipython",
    "version": 3
   },
   "file_extension": ".py",
   "mimetype": "text/x-python",
   "name": "python",
   "nbconvert_exporter": "python",
   "pygments_lexer": "ipython3",
   "version": "3.6.1"
  }
 },
 "nbformat": 4,
 "nbformat_minor": 2
}
